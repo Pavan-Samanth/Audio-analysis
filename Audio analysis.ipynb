{
 "cells": [
  {
   "cell_type": "code",
   "execution_count": 1,
   "id": "2f354fb2",
   "metadata": {},
   "outputs": [],
   "source": [
    "# from pydub import AudioSegment\n",
    "# mp3_audio = AudioSegment.from_file(r\"Ys Jagan Funny Speech On Mejority.mp3\",format=\"mp3\")\n",
    "# mp3_audio.export(\"speech_converted.wav\",format=\"wav\")"
   ]
  },
  {
   "cell_type": "code",
   "execution_count": 2,
   "id": "436f1bf6",
   "metadata": {},
   "outputs": [],
   "source": [
    "\n",
    "# audio_file = \"speech_converted.wav\"\n",
    "# read_text = sr.Recognizer()\n",
    "# with sr.AudioFile(audio_file) as r:\n",
    "#     audio = read_text.record(r)\n",
    "#     transcript = read_text.recognize_google(audio,language=\"te-IN\")\n",
    "#     print(transcript)"
   ]
  },
  {
   "cell_type": "code",
   "execution_count": 3,
   "id": "366c857d",
   "metadata": {},
   "outputs": [],
   "source": [
    "import moviepy.editor as mp\n",
    "import speech_recognition as sr\n",
    "import os\n",
    "import sys\n",
    "from pydub import AudioSegment\n",
    "from pydub.utils import make_chunks\n",
    "import pandas as pd\n",
    "import numpy as np"
   ]
  },
  {
   "cell_type": "code",
   "execution_count": 4,
   "id": "cf197c98",
   "metadata": {},
   "outputs": [
    {
     "name": "stdout",
     "output_type": "stream",
     "text": [
      "no need to convert\n"
     ]
    }
   ],
   "source": [
    "clip = mp.VideoFileClip(\"CM YS Jagan Power Full Speech At YSRCP Plenary _ YSRCP Plenary 2022 __ Sakshi TV_HD.mp4\")\n",
    "\n",
    "file = \"YSJagan.wav\"\n",
    "if os.path.exists(file):\n",
    "    print(\"no need to convert\")\n",
    "else:\n",
    "    clip.audio.write_audiofile(file)"
   ]
  },
  {
   "cell_type": "code",
   "execution_count": 5,
   "id": "88ccbab7",
   "metadata": {},
   "outputs": [],
   "source": [
    "def speech_recognition(chunk_name):\n",
    "    whole_text = \"\"\n",
    "    with sr.AudioFile(chunk_name) as r:\n",
    "        audio = read_text.record(r)\n",
    "        transcript = read_text.recognize_google(audio,language=\"te-IN\")\n",
    "        whole_text += transcript\n",
    "    return whole_text"
   ]
  },
  {
   "cell_type": "code",
   "execution_count": 6,
   "id": "0e653e6c",
   "metadata": {},
   "outputs": [
    {
     "name": "stdout",
     "output_type": "stream",
     "text": [
      "                                                 text\n",
      "0   ఇక్కడ ఈరోజు మీ ఉత్సాహ మధ్య ఒకసారి మన పార్టీ గు...\n",
      "1   పావురాల గుట్టలో ప్రారంభమైన ఈ ప్రదర్శన అంటే 13 ...\n",
      "2   నష్టాలను భరించి నన్ను అమితంగా ప్రేమించి ఈ ప్రయ...\n",
      "3   కోట్ల మంది మనసున్న మనుషులకు జగన్ మీ వాడిగా మీ ...\n",
      "4   ఎవరు కూడా పగబట్టిన కూడా మన మీద కత్తిగట్టిన కూడ...\n",
      "5   నా బర్త్ డే 2019 అంటే మూడేళ్ల క్రితం కనివినీ ఎ...\n",
      "6   ప్రజలు అధికారులు ఇవ్వగా మరోవైపు దేవుడి దయ చూడం...\n",
      "7   సామాన్యుల కోసం అన్ని ప్రాంతాలకు అనుబంధాల కోసం ...\n",
      "8   ఒక కుర్రాళ్ళు గా భావించి పరిపాలన సాగించిన ఈ మూ...\n",
      "9   ఇప్పుడు మనం మన మనసుతో నేను చెప్పినది 95% హామీల...\n",
      "10  madananna పోస్టులు చూడడానికి ఈ రోజు బయట ఉన్న ప...\n",
      "11  ఇదే అంటే వైయస్సార్ కాంగ్రెస్ పార్టీ అంటే మన ప్...\n",
      "12  సూపర్ గా ఉంటుంది అని చేసి చూపించింది పరిపాలనా ...\n",
      "13  ఇది ఏ మాదిరిగా ఉంటుంది అని చేసి చూపించింది మన ...\n",
      "14  వివక్షకు తావు లేకుండా ఇలా చేస్తే ఈ మూడు సంవత్స...\n",
      "15  పాలన అందిస్తామని మాట చెప్పు ఆ మాటలు పూజ తప్పకు...\n",
      "16  హ్యాపీ గా వైయస్సార్ కాంగ్రెస్ గా ఎలాంటి అడుగుల...\n",
      "17  ఈ దృష్టితో చూస్తే అర్థం అవుతుంది అంటే ఈ బాబు ఈ...\n",
      "18  మనం మన చేతులతోనే సమాధానం ఇష్టం కూడా ఈ మూడు సంవ...\n",
      "19  ఈరోజు నోరు పారేసుకుంటారు ఆ విమర్శల్ని ఆకట్టుకు...\n",
      "20  గతంలో మాదిరిగా దోచుకో పంచుకోవాలన్న పరిస్థితి ఇ...\n",
      "21  పొట్ట మాత్రం ఉంది వాడికి ఎక్కడ మన చేత వారి చేత...\n",
      "22  ఈరోజు లేడు కాబట్టి ఈరోజు కులాల కుంపటి మతాల మంట...\n",
      "23  ఈ మూడింటి మీ డాడీ మీ జగన్ ఆధారపడతాడు మాత్రం తద...\n",
      "24  రేపు సాయంత్రం మరొక్కసారి సుదీర్ఘంగా నేను మాట్ల...\n"
     ]
    }
   ],
   "source": [
    "mp3_audio = AudioSegment.from_file(file,format=\".wav\")\n",
    "chunk_length = 60*1000\n",
    "dataframe = pd.DataFrame(columns = [\"text\"])\n",
    "folder = os.getcwd() + \"\\\\multiple_audio\"\n",
    "if not os.path.exists(folder):\n",
    "    os.makedirs(os.getcwd() + \"\\\\multiple_audio\",exist_ok=True)\n",
    "read_text = sr.Recognizer()\n",
    "chunks = make_chunks(mp3_audio,chunk_length)\n",
    "for i,clip in enumerate(chunks):\n",
    "    chunk_name = os.path.join(folder,f\"video{i}.wav\")\n",
    "    if os.path.exists(chunk_name):\n",
    "        data = speech_recognition(chunk_name)\n",
    "    else:\n",
    "        clip.export(chunk_name,format=\"wav\")\n",
    "        data = speech_recognition(chunk_name)\n",
    "    \n",
    "    dataframe = dataframe.append({\"text\":data},ignore_index=True)\n",
    "print(dataframe)"
   ]
  },
  {
   "cell_type": "code",
   "execution_count": 8,
   "id": "015a1470",
   "metadata": {},
   "outputs": [],
   "source": [
    "dataframe.to_excel(\"text.xlsx\")"
   ]
  },
  {
   "cell_type": "code",
   "execution_count": null,
   "id": "68c5e2f2",
   "metadata": {},
   "outputs": [],
   "source": []
  },
  {
   "cell_type": "code",
   "execution_count": null,
   "id": "a4dd7d52",
   "metadata": {},
   "outputs": [],
   "source": []
  },
  {
   "cell_type": "code",
   "execution_count": null,
   "id": "3d1450c4",
   "metadata": {},
   "outputs": [],
   "source": []
  },
  {
   "cell_type": "code",
   "execution_count": null,
   "id": "8159fe9c",
   "metadata": {},
   "outputs": [],
   "source": []
  },
  {
   "cell_type": "code",
   "execution_count": null,
   "id": "e0f1cb24",
   "metadata": {},
   "outputs": [],
   "source": []
  },
  {
   "cell_type": "code",
   "execution_count": null,
   "id": "7fd435e6",
   "metadata": {},
   "outputs": [],
   "source": []
  },
  {
   "cell_type": "code",
   "execution_count": null,
   "id": "b098d049",
   "metadata": {},
   "outputs": [],
   "source": []
  },
  {
   "cell_type": "code",
   "execution_count": null,
   "id": "8ed52876",
   "metadata": {},
   "outputs": [],
   "source": []
  },
  {
   "cell_type": "code",
   "execution_count": null,
   "id": "b9d5d5eb",
   "metadata": {},
   "outputs": [],
   "source": []
  },
  {
   "cell_type": "code",
   "execution_count": null,
   "id": "0eb78538",
   "metadata": {},
   "outputs": [],
   "source": []
  }
 ],
 "metadata": {
  "kernelspec": {
   "display_name": "Python 3 (ipykernel)",
   "language": "python",
   "name": "python3"
  },
  "language_info": {
   "codemirror_mode": {
    "name": "ipython",
    "version": 3
   },
   "file_extension": ".py",
   "mimetype": "text/x-python",
   "name": "python",
   "nbconvert_exporter": "python",
   "pygments_lexer": "ipython3",
   "version": "3.9.12"
  }
 },
 "nbformat": 4,
 "nbformat_minor": 5
}
